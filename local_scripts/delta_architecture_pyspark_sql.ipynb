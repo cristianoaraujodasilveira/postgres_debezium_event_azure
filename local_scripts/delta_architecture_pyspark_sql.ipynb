{
 "cells": [
  {
   "cell_type": "code",
   "execution_count": null,
   "id": "8763749f-0a87-49a3-bfe0-54e60d6c2ec3",
   "metadata": {},
   "outputs": [],
   "source": []
  },
  {
   "cell_type": "code",
   "execution_count": null,
   "id": "b9eab1f0-9d56-4830-840c-0674ae9ccafb",
   "metadata": {},
   "outputs": [],
   "source": []
  },
  {
   "cell_type": "code",
   "execution_count": null,
   "id": "1f0ea79e-61b8-4b13-a9ce-d3daf6d58139",
   "metadata": {},
   "outputs": [],
   "source": [
    "storageAccountName = \"cresolsa\"\n",
    "storageAccountAccessKey = \"Z8/UwSkAd/BIS91UJouTnw03OVmw27B3qGaU/EYItNpoGDfkV9wH5uxseeT4se5Hj1V/R4nflTYW+AStTus40g==\"\n",
    "blobContainerName = \"cresol-raw\"\n",
    "dbutils.fs.mount(\n",
    "    source = \"wasbs://{}@{}.blob.core.windows.net\".format(blobContainerName, storageAccountName),\n",
    "    mount_point = \"/mnt/cresol-data-raw/\",\n",
    "    extra_configs = {'fs.azure.account.key.' + storageAccountName + '.blob.core.windows.net': storageAccountAccessKey}\n",
    ")"
   ]
  },
  {
   "cell_type": "code",
   "execution_count": null,
   "id": "7422317e-616c-411e-a319-8cd6588e2140",
   "metadata": {},
   "outputs": [],
   "source": [
    "diplay(dbutils.fs.ls(\"/mnt/cresol-data-raw/\"))"
   ]
  },
  {
   "cell_type": "code",
   "execution_count": null,
   "id": "bd5cb90d-7236-43fc-9d4e-cbfa3b4a893a",
   "metadata": {},
   "outputs": [],
   "source": [
    "%sql\n",
    "CREATE DATABASE IF NOT EXISTS live"
   ]
  },
  {
   "cell_type": "code",
   "execution_count": null,
   "id": "b1fe8fff-a0cf-4b21-9525-7a86739a1567",
   "metadata": {},
   "outputs": [],
   "source": [
    "%sql \n",
    "USE live"
   ]
  },
  {
   "cell_type": "code",
   "execution_count": null,
   "id": "b8308b4f-9d73-439a-81ec-d48c74875f42",
   "metadata": {},
   "outputs": [],
   "source": [
    "df = spark.readStream \\\n",
    "  .schema(cdc_schema) \\\n",
    "  .format(\"CloudFiles\") \\ #recebe uma notificação quando tem um novo arquivo\n",
    "  .option(\"maxFilesPerTrigger\", 1) \\ #quantos arquivos ele vai processar por vez\n",
    "  .load(\"*/mnt/*.avro\") #qual a pasta ele está lendo"
   ]
  },
  {
   "cell_type": "code",
   "execution_count": null,
   "id": "b16dad71-b2c7-4d1c-8ee0-0fb2e2b0f35c",
   "metadata": {},
   "outputs": [],
   "source": [
    "df.isStreaming"
   ]
  }
 ],
 "metadata": {
  "kernelspec": {
   "display_name": "Python 3 (ipykernel)",
   "language": "python",
   "name": "python3"
  },
  "language_info": {
   "codemirror_mode": {
    "name": "ipython",
    "version": 3
   },
   "file_extension": ".py",
   "mimetype": "text/x-python",
   "name": "python",
   "nbconvert_exporter": "python",
   "pygments_lexer": "ipython3",
   "version": "3.9.7"
  }
 },
 "nbformat": 4,
 "nbformat_minor": 5
}
